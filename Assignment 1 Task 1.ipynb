{
 "cells": [
  {
   "attachments": {},
   "cell_type": "markdown",
   "id": "68a50784",
   "metadata": {},
   "source": [
    "# Assignment 1 Task 1\n",
    "\n",
    "### Jeremy Trane - 18357611\n",
    "\n",
    "In this task, we will be using [the oMDB API](http://www.omdbapi.com) to collect data from the [top 20 grossing movies of 2000](https://www.boxofficemojo.com/year/2000/), as well as the [top 20 grossing movies of 2022](https://www.boxofficemojo.com/year/world/2022/)\n",
    "\n",
    "Both datasets are going to be used and compared to one another using charts and graphs as a simple visualisation. This will be done in an attempt to try observe a correlation between certain features of movies with respect to box office. By having two sets of data we will be able to observe the evlolution of these features to see how they have evolved over a span of 20 years."
   ]
  },
  {
   "attachments": {},
   "cell_type": "markdown",
   "id": "c397412b",
   "metadata": {},
   "source": [
    "The json and requests packages are used to make API calls. The data obtained from said called are store in the appropriate json files, located in the same directory as the jupyter notebook file."
   ]
  },
  {
   "cell_type": "code",
   "execution_count": 1,
   "id": "c0126353",
   "metadata": {},
   "outputs": [],
   "source": [
    "import json, requests\n",
    "\n",
    "key = \"a91ba497\""
   ]
  },
  {
   "attachments": {},
   "cell_type": "markdown",
   "id": "48ffbfb8",
   "metadata": {},
   "source": [
    "Next the list of bot the 20 highest-grossing films of 2000 and 20 highest-grossing films of 2022 are created and seen below. "
   ]
  },
  {
   "cell_type": "code",
   "execution_count": 2,
   "id": "74485269",
   "metadata": {},
   "outputs": [],
   "source": [
    "movies_of_2000 = [\"How the Grinch Stole Christmas\",\n",
    "                   \"Mission: Impossible II\", \n",
    "                   \"Gladiator\",\n",
    "                   \"The Perfect Storm\", \n",
    "                   \"Meet the Parents\", \n",
    "                   \"X-Men\",\n",
    "                   \"Scary Movie\", \n",
    "                   \"What Lies Beneath\",\n",
    "                   \"Dinosaur\",\n",
    "                   \"Erin Brockovich\",\n",
    "                   \"Nutty Professor II: The Klumps\", \n",
    "                   \"Charlie's Angels\",\n",
    "                   \"Big Momma's House\",\n",
    "                   \"Remember the Titans\",\n",
    "                   \"The Patriot\",\n",
    "                   \"What Women Want\",\n",
    "                   \"Chicken Run\",\n",
    "                   \"Gone in 60 Seconds\",\n",
    "                   \"Cast Away\",\n",
    "                   \"Me, Myself & Irene\"]\n",
    "movies_of_2022 = [\"Avatar: The Way of Water\",\n",
    "                  \"Top Gun: Maverick\",\n",
    "                  \"Jurassic World: Dominion\",\n",
    "                  \"Doctor Strange in the Multiverse of Madness\",\n",
    "                  \"Minions: The Rise of Gru\",\n",
    "                  \"Black Panther: Wakanda Forever\",\n",
    "                  \"The Batman\",\n",
    "                  \"Thor: Love and Thunder\",\n",
    "                  \"Water Gate Bridge\",\n",
    "                  \"Moon Man\",\n",
    "                  \"Fantastic Beasts: The Secrets of Dumbledore\",\n",
    "                  \"Sonic the Hedgehog 2\",\n",
    "                  \"Uncharted\",\n",
    "                  \"Black Adam\",\n",
    "                  \"Puss in Boots: The Last Wish\",\n",
    "                  \"Elvis\", \"The Bad Guys\",\n",
    "                  \"Bullet Train\",\n",
    "                  \"Lightyear\",\n",
    "                  \"Too Cool to Kill\"]"
   ]
  },
  {
   "attachments": {},
   "cell_type": "markdown",
   "id": "f3b43072",
   "metadata": {},
   "source": [
    "Before collecting the data from each movie, we will check the api response to ensure that the metadata for each movie is available. This is done to filter out if a movie metadata isn't present. "
   ]
  },
  {
   "cell_type": "code",
   "execution_count": 3,
   "id": "1af24183",
   "metadata": {},
   "outputs": [
    {
     "name": "stdout",
     "output_type": "stream",
     "text": [
      "Checking if How the Grinch Stole Christmas is ok\n",
      "Checking if Mission: Impossible II is ok\n",
      "Checking if Gladiator is ok\n",
      "Checking if The Perfect Storm is ok\n",
      "Checking if Meet the Parents is ok\n",
      "Checking if X-Men is ok\n",
      "Checking if Scary Movie is ok\n",
      "Checking if What Lies Beneath is ok\n",
      "Checking if Dinosaur is ok\n",
      "Checking if Erin Brockovich is ok\n",
      "Checking if Nutty Professor II: The Klumps is ok\n",
      "Checking if Charlie's Angels is ok\n",
      "Checking if Big Momma's House is ok\n",
      "Checking if Remember the Titans is ok\n",
      "Checking if The Patriot is ok\n",
      "Checking if What Women Want is ok\n",
      "Checking if Chicken Run is ok\n",
      "Checking if Gone in 60 Seconds is ok\n",
      "Checking if Cast Away is ok\n",
      "Checking if Me, Myself & Irene is ok\n",
      "Checking if Avatar: The Way of Water is ok\n"
     ]
    }
   ],
   "source": [
    "#Function to check if api response is ok\n",
    "def check_if_movie_ok(key, movie):\n",
    "    url = f\"http://www.omdbapi.com/?apikey={key}&t={movie}\"\n",
    "    print(\"Checking if %s is ok\" % movie)\n",
    "    response = requests.get(url)\n",
    "    return response.json()['Response']\n",
    "    \n",
    "# Checking all movies to ensure they're all ok\n",
    "movies_of_2000_ok = []\n",
    "for movie in movies_of_2000:\n",
    "    if check_if_movie_ok(key, movie) == \"True\":\n",
    "        movies_of_2000_ok.append(movie)\n",
    "\n",
    "movies_of_2022_ok = []\n",
    "for movie in movies_of_2022:\n",
    "    if check_if_movie_ok(key, movie) == \"True\":\n",
    "        movies_of_2022_ok.append(movie)"
   ]
  },
  {
   "attachments": {},
   "cell_type": "markdown",
   "id": "86c3d791",
   "metadata": {},
   "source": [
    "# Data collection\n",
    "In the next step, the API calls will be made to obtain all the appropriate data and store it. This is done by creating a fetch def which will take in the api key and a movie as an input and return the json data obtain by the API call."
   ]
  },
  {
   "cell_type": "code",
   "execution_count": 4,
   "id": "8cc6ea70",
   "metadata": {
    "scrolled": false
   },
   "outputs": [],
   "source": [
    "#Function to return metadata of each movie\n",
    "def fetch(key, movie):\n",
    "    url = f\"http://www.omdbapi.com/?apikey={key}&t={movie}\"\n",
    "    print(\"Fetching %s\" % url)\n",
    "    response = requests.get(url)\n",
    "    jdata = response.text\n",
    "    return json.loads(jdata)"
   ]
  },
  {
   "attachments": {},
   "cell_type": "markdown",
   "id": "4ca6e6c1",
   "metadata": {},
   "source": [
    "Using this function we are able to obtain all the data for the top grossing movies of 2000."
   ]
  },
  {
   "cell_type": "code",
   "execution_count": 5,
   "id": "f19b23b2",
   "metadata": {
    "scrolled": false
   },
   "outputs": [
    {
     "name": "stdout",
     "output_type": "stream",
     "text": [
      "Fetching http://www.omdbapi.com/?apikey=a91ba497&t=How the Grinch Stole Christmas\n",
      "Fetching http://www.omdbapi.com/?apikey=a91ba497&t=Mission: Impossible II\n",
      "Fetching http://www.omdbapi.com/?apikey=a91ba497&t=Gladiator\n",
      "Fetching http://www.omdbapi.com/?apikey=a91ba497&t=The Perfect Storm\n",
      "Fetching http://www.omdbapi.com/?apikey=a91ba497&t=Meet the Parents\n",
      "Fetching http://www.omdbapi.com/?apikey=a91ba497&t=X-Men\n",
      "Fetching http://www.omdbapi.com/?apikey=a91ba497&t=Scary Movie\n",
      "Fetching http://www.omdbapi.com/?apikey=a91ba497&t=What Lies Beneath\n",
      "Fetching http://www.omdbapi.com/?apikey=a91ba497&t=Dinosaur\n",
      "Fetching http://www.omdbapi.com/?apikey=a91ba497&t=Erin Brockovich\n",
      "Fetching http://www.omdbapi.com/?apikey=a91ba497&t=Nutty Professor II: The Klumps\n",
      "Fetching http://www.omdbapi.com/?apikey=a91ba497&t=Charlie's Angels\n",
      "Fetching http://www.omdbapi.com/?apikey=a91ba497&t=Big Momma's House\n",
      "Fetching http://www.omdbapi.com/?apikey=a91ba497&t=Remember the Titans\n",
      "Fetching http://www.omdbapi.com/?apikey=a91ba497&t=The Patriot\n",
      "Fetching http://www.omdbapi.com/?apikey=a91ba497&t=What Women Want\n",
      "Fetching http://www.omdbapi.com/?apikey=a91ba497&t=Chicken Run\n",
      "Fetching http://www.omdbapi.com/?apikey=a91ba497&t=Gone in 60 Seconds\n",
      "Fetching http://www.omdbapi.com/?apikey=a91ba497&t=Cast Away\n",
      "Fetching http://www.omdbapi.com/?apikey=a91ba497&t=Me, Myself & Irene\n"
     ]
    }
   ],
   "source": [
    "#Obtaining metadata of top 20 grossing movies of 2000\n",
    "movies_of_2000_metadata = {}\n",
    "for movie in movies_of_2000_ok:\n",
    "    movie_data = fetch(key, movie)\n",
    "    movies_of_2000_metadata[movie] = movie_data "
   ]
  },
  {
   "attachments": {},
   "cell_type": "markdown",
   "id": "263c3962",
   "metadata": {},
   "source": [
    "This step is then repeated for the top grossing movies of 2022"
   ]
  },
  {
   "cell_type": "code",
   "execution_count": 6,
   "id": "788eae10",
   "metadata": {
    "scrolled": true
   },
   "outputs": [
    {
     "name": "stdout",
     "output_type": "stream",
     "text": [
      "Fetching http://www.omdbapi.com/?apikey=a91ba497&t=Avatar: The Way of Water\n",
      "Fetching http://www.omdbapi.com/?apikey=a91ba497&t=Top Gun: Maverick\n",
      "Fetching http://www.omdbapi.com/?apikey=a91ba497&t=Jurassic World: Dominion\n",
      "Fetching http://www.omdbapi.com/?apikey=a91ba497&t=Doctor Strange in the Multiverse of Madness\n",
      "Fetching http://www.omdbapi.com/?apikey=a91ba497&t=Minions: The Rise of Gru\n",
      "Fetching http://www.omdbapi.com/?apikey=a91ba497&t=Black Panther: Wakanda Forever\n",
      "Fetching http://www.omdbapi.com/?apikey=a91ba497&t=The Batman\n",
      "Fetching http://www.omdbapi.com/?apikey=a91ba497&t=Thor: Love and Thunder\n",
      "Fetching http://www.omdbapi.com/?apikey=a91ba497&t=Water Gate Bridge\n",
      "Fetching http://www.omdbapi.com/?apikey=a91ba497&t=Moon Man\n",
      "Fetching http://www.omdbapi.com/?apikey=a91ba497&t=Fantastic Beasts: The Secrets of Dumbledore\n",
      "Fetching http://www.omdbapi.com/?apikey=a91ba497&t=Sonic the Hedgehog 2\n",
      "Fetching http://www.omdbapi.com/?apikey=a91ba497&t=Uncharted\n",
      "Fetching http://www.omdbapi.com/?apikey=a91ba497&t=Black Adam\n",
      "Fetching http://www.omdbapi.com/?apikey=a91ba497&t=Puss in Boots: The Last Wish\n",
      "Fetching http://www.omdbapi.com/?apikey=a91ba497&t=Elvis\n",
      "Fetching http://www.omdbapi.com/?apikey=a91ba497&t=The Bad Guys\n",
      "Fetching http://www.omdbapi.com/?apikey=a91ba497&t=Bullet Train\n",
      "Fetching http://www.omdbapi.com/?apikey=a91ba497&t=Lightyear\n",
      "Fetching http://www.omdbapi.com/?apikey=a91ba497&t=Too Cool to Kill\n"
     ]
    }
   ],
   "source": [
    "#Obtaining metadata of top 20 grossing movies of 2022\n",
    "movies_of_2022_metadata = {}\n",
    "for movie in movies_of_2022_ok:\n",
    "    movie_data = fetch(key, movie)\n",
    "    movies_of_2022_metadata[movie] = movie_data"
   ]
  },
  {
   "attachments": {},
   "cell_type": "markdown",
   "id": "ac44003d",
   "metadata": {},
   "source": [
    "Once the information has been obtained, it is stored in json files in the same location as the jupyter notebook. This will then be used in the second part in the assignment, where it will be opened, parsed and the data will be expressed visually."
   ]
  },
  {
   "cell_type": "code",
   "execution_count": 7,
   "id": "79bee692",
   "metadata": {},
   "outputs": [],
   "source": [
    "#Writing metadatas to json files\n",
    "with open('movies_of_2000_metadata.json', 'w') as fp:\n",
    "    json.dump(movies_of_2000_metadata, fp)\n",
    "    fp.close()\n",
    "with open('movies_of_2022_metadata.json', 'w') as fp:\n",
    "    json.dump(movies_of_2022_metadata, fp)\n",
    "    fp.close()"
   ]
  },
  {
   "attachments": {},
   "cell_type": "markdown",
   "id": "126a7218",
   "metadata": {},
   "source": [
    "A list of all the movies in both lists is also created and stored in a text file this way it can also be used in the second part of the assignment. \n",
    "\n",
    "This list could simply be imported in the second assignment as it is done in this assignment however, if the list were to change it is more convenient to change it in one place and is therefore, more reliable to do it this method."
   ]
  },
  {
   "cell_type": "code",
   "execution_count": 8,
   "id": "be40fe0c",
   "metadata": {},
   "outputs": [],
   "source": [
    "#Writing movie lists to text files\n",
    "with open('movies_of_2000.txt', 'w') as filehandle:\n",
    "    for movie in movies_of_2000:\n",
    "        filehandle.write('%s\\n' % movie)\n",
    "    filehandle.close()\n",
    "    \n",
    "with open('movies_of_2022.txt', 'w') as filehandle:\n",
    "    for movie in movies_of_2022:\n",
    "        filehandle.write('%s\\n' % movie)\n",
    "    filehandle.close()"
   ]
  }
 ],
 "metadata": {
  "kernelspec": {
   "display_name": "Python 3 (ipykernel)",
   "language": "python",
   "name": "python3"
  },
  "language_info": {
   "codemirror_mode": {
    "name": "ipython",
    "version": 3
   },
   "file_extension": ".py",
   "mimetype": "text/x-python",
   "name": "python",
   "nbconvert_exporter": "python",
   "pygments_lexer": "ipython3",
   "version": "3.9.13"
  }
 },
 "nbformat": 4,
 "nbformat_minor": 5
}
